{
 "cells": [
  {
   "cell_type": "markdown",
   "id": "255eab77-3cf6-45b8-a9dc-2b672ce437d1",
   "metadata": {},
   "source": [
    "This notebook showcases the generation of mappings between protein components. \n",
    "\n",
    "It is intended to be used for computing relative binding free energies for protein mutations."
   ]
  },
  {
   "cell_type": "code",
   "execution_count": 8,
   "id": "43007043-a820-4395-8cc2-e5bad8ce55bf",
   "metadata": {},
   "outputs": [
    {
     "name": "stderr",
     "output_type": "stream",
     "text": [
      "LICENSE: Could not open license file \"oe_license.txt\" in local directory\n",
      "LICENSE: N.B. OE_LICENSE environment variable is not set\n",
      "LICENSE: N.B. OE_DIR environment variable is not set\n",
      "LICENSE: No product keys!\n",
      "LICENSE: No product keys!\n",
      "LICENSE: No product keys!\n",
      "LICENSE: No product keys!\n",
      "Error: \n",
      "  \u001b[31m×\u001b[0m could not find pixi.toml or pyproject.toml at directory /home/ijpulidos/\n",
      "  \u001b[31m│\u001b[0m workdir/repos/pale/playground/protein-mutation\n",
      "\n",
      "/home/ijpulidos/miniforge3/envs/pale-dev/lib/python3.12/site-packages/openff/utilities/provenance.py:72: CondaExecutableNotFoundWarning: Something went wrong parsing the output of `conda list` or similar. Unable to determine AmberTools version, returning None.\n",
      "  warnings.warn(\n",
      "Error: \n",
      "  \u001b[31m×\u001b[0m could not find pixi.toml or pyproject.toml at directory /home/ijpulidos/\n",
      "  \u001b[31m│\u001b[0m workdir/repos/pale/playground/protein-mutation\n",
      "\n",
      "/home/ijpulidos/miniforge3/envs/pale-dev/lib/python3.12/site-packages/openff/utilities/provenance.py:72: CondaExecutableNotFoundWarning: Something went wrong parsing the output of `conda list` or similar. Unable to determine AmberTools version, returning None.\n",
      "  warnings.warn(\n"
     ]
    }
   ],
   "source": [
    "import pandas as pd\n",
    "import numpy as np\n",
    "from kartograf import KartografAtomMapper\n",
    "from gufe import ProteinComponent\n",
    "from gufe.tokenization import JSON_HANDLER"
   ]
  },
  {
   "cell_type": "markdown",
   "id": "49f36dbb-23bc-4cbb-b84c-d50a32eb3e1f",
   "metadata": {},
   "source": [
    "We aim to reproduce the results in https://github.com/choderalab/perses-barnase-barstar-paper/tree/main/input_files and https://github.com/choderalab/perses-barnase-barstar-paper/blob/main/data/table_terminally_blocked.csv"
   ]
  },
  {
   "cell_type": "markdown",
   "id": "06f3512f-ff54-4d3b-9364-aca0d1e024fd",
   "metadata": {},
   "source": [
    "## Generate mutated protein\n",
    "\n",
    "The mutation is P61R in Chain A"
   ]
  },
  {
   "cell_type": "code",
   "execution_count": 1,
   "id": "c5fced6c-f48d-4d79-8cdf-b85c01eef82e",
   "metadata": {},
   "outputs": [],
   "source": [
    "import os\n",
    "from pdbfixer import PDBFixer"
   ]
  },
  {
   "cell_type": "code",
   "execution_count": 2,
   "id": "a8ccec3d-79a0-49dc-bd61-93d4bd35cab5",
   "metadata": {},
   "outputs": [],
   "source": [
    "pdbfixer = PDBFixer(\"./hair2_dimer/her2-for-mapping-p61r.pdb\")"
   ]
  },
  {
   "cell_type": "code",
   "execution_count": 3,
   "id": "8f4e7c30-aff9-41cf-9fc7-7366c8bef1c8",
   "metadata": {},
   "outputs": [],
   "source": [
    "pdbfixer.findMissingResidues()\n",
    "pdbfixer.findMissingAtoms()"
   ]
  },
  {
   "cell_type": "code",
   "execution_count": 4,
   "id": "0d11fdbb-0f42-4543-9d58-356b114cf8b0",
   "metadata": {},
   "outputs": [],
   "source": [
    "pdbfixer.applyMutations([\"PRO-61-ARG\"], \"A\")\n",
    "pdbfixer.findMissingResidues()\n",
    "pdbfixer.findMissingAtoms()\n",
    "pdbfixer.addMissingAtoms()\n",
    "pdbfixer.addMissingHydrogens(7.0)"
   ]
  },
  {
   "cell_type": "code",
   "execution_count": 5,
   "id": "b936f1a1-e7dd-400d-a426-cf699cd0ae3f",
   "metadata": {},
   "outputs": [],
   "source": [
    "from openmm.app import PDBFile\n",
    "omm_top = pdbfixer.topology\n",
    "omm_pos = pdbfixer.positions\n",
    "with open(\"./hair2_dimer/mutated_dimer_P61R.pdb\", \"w\") as out_file:\n",
    "    PDBFile.writeFile(omm_top, omm_pos, out_file)"
   ]
  },
  {
   "cell_type": "code",
   "execution_count": 6,
   "id": "6db5385e-c0b9-4f64-b4e1-bb48f6bf8552",
   "metadata": {},
   "outputs": [],
   "source": [
    "# Create dictionary for AA code translation\n",
    "aa_three_to_one_code = {\n",
    "    \"ALA\": \"A\",\n",
    "    \"GLY\": \"G\",\n",
    "    \"ILE\": \"I\",\n",
    "    \"LEU\": \"L\",\n",
    "    \"PRO\": \"P\",\n",
    "    \"VAL\": \"V\",\n",
    "    \"PHE\": \"F\",\n",
    "    \"TRP\": \"W\",\n",
    "    \"TYR\": \"Y\",\n",
    "    \"ASP\": \"D\",\n",
    "    \"GLU\": \"E\",\n",
    "    \"ARG\": \"R\",\n",
    "    \"HIS\": \"H\",\n",
    "    \"LYS\": \"K\",\n",
    "    \"SER\": \"S\",\n",
    "    \"THR\": \"T\",\n",
    "    \"CYS\": \"C\",\n",
    "    \"MET\": \"M\",\n",
    "    \"ASN\": \"N\",\n",
    "    \"GLN\": \"Q\"\n",
    "}\n",
    "aa_one_to_three_code = {value: key for key, value in aa_three_to_one_code.items()}"
   ]
  },
  {
   "cell_type": "code",
   "execution_count": 9,
   "id": "5406448b-6d22-4fd8-a062-a8881b69d960",
   "metadata": {},
   "outputs": [],
   "source": [
    "# Generating mappings for all the relevant mutations\n",
    "# TODO: What happened to the `allow_bond_breaks=True/False` option?\n",
    "atom_mapper = KartografAtomMapper(map_exact_ring_matches_only=False, atom_map_hydrogens=True)\n",
    "mutation_string = \"P61R\"\n",
    "# Read the capped dipeptide pdb\n",
    "initial_comp = ProteinComponent.from_pdb_file(\"hair2_dimer/her2-for-mapping-p61r.pdb\")\n",
    "# Read the ALA dipeptide pdb\n",
    "final_comp = ProteinComponent.from_pdb_file(f\"hair2_dimer/mutated_dimer_{mutation_string}.pdb\")\n",
    "# Generate mappings\n",
    "mapping = next(atom_mapper.suggest_mappings(initial_comp, final_comp))\n",
    "# Serializing mappings\n",
    "# with open(f\"mappings/{initial_aa_three_letter}_to_{final_aa_three_letter}.json\", \"w\") as out_file:\n",
    "#     mapping.to_json(out_file)"
   ]
  },
  {
   "cell_type": "code",
   "execution_count": 10,
   "id": "35fe34a0-7114-473a-84df-8773eb641649",
   "metadata": {},
   "outputs": [
    {
     "data": {
      "text/plain": [
       "[]"
      ]
     },
     "execution_count": 10,
     "metadata": {},
     "output_type": "execute_result"
    }
   ],
   "source": [
    "list(mapping.componentA_unique)"
   ]
  },
  {
   "cell_type": "code",
   "execution_count": 11,
   "id": "17c0c0f6-2360-4277-9eb5-b4ce41582a42",
   "metadata": {},
   "outputs": [
    {
     "data": {
      "text/plain": [
       "[898, 912, 913, 914, 915, 916, 917, 918, 919, 920]"
      ]
     },
     "execution_count": 11,
     "metadata": {},
     "output_type": "execute_result"
    }
   ],
   "source": [
    "list(mapping.componentB_unique)"
   ]
  },
  {
   "cell_type": "code",
   "execution_count": 12,
   "id": "646d6e15-9244-4b41-8a8c-524b23623e6f",
   "metadata": {},
   "outputs": [],
   "source": [
    "component_a = mapping.componentA\n",
    "component_b = mapping.componentB"
   ]
  },
  {
   "cell_type": "code",
   "execution_count": 13,
   "id": "fee11cf9-fa9f-4fab-9675-aef5fc881a2e",
   "metadata": {},
   "outputs": [],
   "source": [
    "initial_topology = component_a.to_openmm_topology()\n",
    "final_topology = component_b.to_openmm_topology()"
   ]
  },
  {
   "cell_type": "code",
   "execution_count": 14,
   "id": "4d0257aa-3acb-46f9-86c3-23c71ad1702f",
   "metadata": {},
   "outputs": [],
   "source": [
    "initial_atoms = list(initial_topology.atoms())\n",
    "final_atoms = list(final_topology.atoms())"
   ]
  },
  {
   "cell_type": "code",
   "execution_count": 15,
   "id": "cae77fdc-4907-4795-83d2-03380e6177aa",
   "metadata": {},
   "outputs": [
    {
     "data": {
      "text/plain": [
       "[]"
      ]
     },
     "execution_count": 15,
     "metadata": {},
     "output_type": "execute_result"
    }
   ],
   "source": [
    "[initial_atoms[unique_guy] for unique_guy in mapping.componentA_unique]"
   ]
  },
  {
   "cell_type": "code",
   "execution_count": 16,
   "id": "ad4c6d53-81e5-4d57-98bc-d06f2eac7f32",
   "metadata": {},
   "outputs": [
    {
     "data": {
      "text/plain": [
       "[<Atom 898 (H) of chain 0 residue 60 (ARG)>,\n",
       " <Atom 912 (NE) of chain 0 residue 60 (ARG)>,\n",
       " <Atom 913 (HE) of chain 0 residue 60 (ARG)>,\n",
       " <Atom 914 (CZ) of chain 0 residue 60 (ARG)>,\n",
       " <Atom 915 (NH1) of chain 0 residue 60 (ARG)>,\n",
       " <Atom 916 (HH11) of chain 0 residue 60 (ARG)>,\n",
       " <Atom 917 (HH12) of chain 0 residue 60 (ARG)>,\n",
       " <Atom 918 (NH2) of chain 0 residue 60 (ARG)>,\n",
       " <Atom 919 (HH21) of chain 0 residue 60 (ARG)>,\n",
       " <Atom 920 (HH22) of chain 0 residue 60 (ARG)>]"
      ]
     },
     "execution_count": 16,
     "metadata": {},
     "output_type": "execute_result"
    }
   ],
   "source": [
    "[final_atoms[unique_guy] for unique_guy in mapping.componentB_unique]"
   ]
  },
  {
   "cell_type": "code",
   "execution_count": 17,
   "id": "5f956704-7904-410a-9c3f-78a590f2bc24",
   "metadata": {},
   "outputs": [],
   "source": [
    "# TODO: Visualize mapping by extracting the residues from the transformation\n",
    "initial_res = list(initial_topology.residues())[60]\n",
    "final_res = list(final_topology.residues())[60]"
   ]
  },
  {
   "cell_type": "code",
   "execution_count": 18,
   "id": "d55ae4a9-123e-423d-aae6-f765ffbfb0b6",
   "metadata": {},
   "outputs": [
    {
     "name": "stderr",
     "output_type": "stream",
     "text": [
      "/home/ijpulidos/miniforge3/envs/pale-dev/lib/python3.12/site-packages/gufe/utils.py:30: UserWarning: mode='w' specified with TextIOWrapper. User-specified mode will be ignored.\n",
      "  warnings.warn(\n"
     ]
    }
   ],
   "source": [
    "mappings_dir = \"./hair2_dimer/mappings\" \n",
    "os.makedirs(mappings_dir, exist_ok=True)\n",
    "with open(f\"{mappings_dir}/dimer_{mutation_string}.json\", \"w\") as out_file:\n",
    "    mapping.to_json(out_file)"
   ]
  },
  {
   "cell_type": "code",
   "execution_count": null,
   "id": "63cc06e1-9e9f-40f1-b711-825442133b76",
   "metadata": {},
   "outputs": [],
   "source": []
  }
 ],
 "metadata": {
  "kernelspec": {
   "display_name": "Python 3 (ipykernel)",
   "language": "python",
   "name": "python3"
  },
  "language_info": {
   "codemirror_mode": {
    "name": "ipython",
    "version": 3
   },
   "file_extension": ".py",
   "mimetype": "text/x-python",
   "name": "python",
   "nbconvert_exporter": "python",
   "pygments_lexer": "ipython3",
   "version": "3.12.10"
  }
 },
 "nbformat": 4,
 "nbformat_minor": 5
}
